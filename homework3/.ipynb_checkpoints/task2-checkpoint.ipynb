{
 "cells": [
  {
   "cell_type": "code",
   "execution_count": 8,
   "metadata": {},
   "outputs": [
    {
     "data": {
      "text/plain": [
       "<matplotlib.collections.PathCollection at 0x230565ea550>"
      ]
     },
     "execution_count": 8,
     "metadata": {},
     "output_type": "execute_result"
    },
    {
     "data": {
      "image/png": "[encoded data removed]",
      "text/plain": [
       "<Figure size 432x288 with 1 Axes>"
      ]
     },
     "metadata": {
      "needs_background": "light"
     },
     "output_type": "display_data"
    }
   ],
   "source": [
    "# задача класстеризации метдодом k-means\n",
    "\n",
    "import numpy as np\n",
    "import matplotlib.pyplot as plt\n",
    "from sklearn.datasets.samples_generator import make_blobs\n",
    "from sklearn.cluster import KMeans\n",
    "from sklearn.datasets import make_moons\n",
    "from sklearn.cluster import SpectralClustering\n",
    "from sklearn.tree import DecisionTreeClassifier\n",
    "import sys\n",
    "np.set_printoptions(threshold=sys.maxsize)\n",
    "\n",
    "import csv\n",
    "\n",
    "data = list()\n",
    "f = open('DlyaAndrianovoy.csv', 'r+')\n",
    "reader = csv.reader(f)\n",
    "for row in reader:\n",
    "    data.append([int(row[0].split(';')[1]), int(row[0].split(';')[2])])\n",
    "\n",
    "data = np.r_[np.array(data)]\n",
    "\n",
    "# задача классификации\n",
    "plt.rcParams['figure.figsize']=(10,8)\n",
    "\n",
    "\n",
    "train_label = list()\n",
    "# генерация тестовой выборки из двух классов\n",
    "for item in data:\n",
    "    if item[0]<100:\n",
    "        if item[1]<100:\n",
    "            train_label.append(float(0))\n",
    "        else:\n",
    "            train_label.append(float(1))\n",
    "    else:\n",
    "        if item[1]<100:\n",
    "            train_label.append(float(2))\n",
    "        else:\n",
    "            train_label.append(float(3))\n",
    "train_label = np.r_[np.array(train_label)]\n",
    "\n",
    "\n",
    "# функция для генерации мелкой сетки - визуализация дерева решений\n",
    "def get_grid(data):\n",
    "    x_min,x_max=data[:,0].min(), data[:,0].max()\n",
    "    y_min,y_max=data[:,1].min(), data[:,1].max()\n",
    "    return np.meshgrid(np.arange(x_min,x_max),np.arange(y_min,y_max))\n",
    "# получение массивов координат точек сетки\n",
    "xx,yy=get_grid(data)\n",
    "\n",
    "clf=DecisionTreeClassifier(min_samples_leaf=3)\n",
    "clf.fit(data,train_label)\n",
    "# визуализация дерева решений - получение предсказаний для каждого узла сетки\n",
    "predicted = clf.predict(np.c_[xx.ravel(),yy.ravel()]).reshape(xx.shape)\n",
    "# закраска областей согласно выбранному классу\n",
    "plt.pcolormesh(xx,yy,predicted, cmap='viridis')\n",
    "\n",
    "\n",
    "# построение дерева решений по обучающей выборке\n",
    "\n",
    "\n",
    "\n",
    "\n",
    "# изображение узлов обучающей выборки\n",
    "plt.scatter(data[:,0], data[:,1],s=40,c=train_label, cmap='cool')\n",
    "\n",
    "\n",
    "\n"
   ]
  },
  {
   "cell_type": "code",
   "execution_count": null,
   "metadata": {},
   "outputs": [],
   "source": []
  },
  {
   "cell_type": "code",
   "execution_count": null,
   "metadata": {},
   "outputs": [],
   "source": []
  },
  {
   "cell_type": "code",
   "execution_count": null,
   "metadata": {},
   "outputs": [],
   "source": []
  },
  {
   "cell_type": "code",
   "execution_count": null,
   "metadata": {},
   "outputs": [],
   "source": []
  },
  {
   "cell_type": "code",
   "execution_count": null,
   "metadata": {},
   "outputs": [],
   "source": []
  },
  {
   "cell_type": "code",
   "execution_count": null,
   "metadata": {},
   "outputs": [],
   "source": []
  },
  {
   "cell_type": "code",
   "execution_count": null,
   "metadata": {},
   "outputs": [],
   "source": []
  },
  {
   "cell_type": "code",
   "execution_count": null,
   "metadata": {},
   "outputs": [],
   "source": []
  },
  {
   "cell_type": "code",
   "execution_count": null,
   "metadata": {},
   "outputs": [],
   "source": []
  },
  {
   "cell_type": "code",
   "execution_count": null,
   "metadata": {},
   "outputs": [],
   "source": []
  },
  {
   "cell_type": "code",
   "execution_count": null,
   "metadata": {},
   "outputs": [],
   "source": []
  },
  {
   "cell_type": "code",
   "execution_count": null,
   "metadata": {},
   "outputs": [],
   "source": [
    "# задача класстеризации метдодом k-means\n",
    "\n",
    "import numpy as np\n",
    "import matplotlib.pyplot as plt\n",
    "from sklearn.datasets.samples_generator import make_blobs\n",
    "from sklearn.cluster import KMeans\n",
    "from sklearn.datasets import make_moons\n",
    "from sklearn.cluster import SpectralClustering\n",
    "from sklearn.tree import DecisionTreeClassifier\n",
    "import sys\n",
    "np.set_printoptions(threshold=sys.maxsize)\n",
    "\n",
    "import csv\n",
    "\n",
    "data = list()\n",
    "f = open('DlyaAndrianovoy.csv', 'r+')\n",
    "reader = csv.reader(f)\n",
    "for row in reader:\n",
    "    data.append([int(row[0].split(';')[1]), int(row[0].split(';')[2])])\n",
    "\n",
    "data = np.r_[np.array(data)]\n",
    "\n",
    "# задача классификации\n",
    "\n",
    "\n",
    "\n",
    "train_label = list()\n",
    "# генерация тестовой выборки из двух классов\n",
    "for item in data:\n",
    "    if item[0]<100:\n",
    "        if item[1]<100:\n",
    "            train_label.append(float(0))\n",
    "        else:\n",
    "            train_label.append(float(1))\n",
    "    else:\n",
    "        if item[1]<100:\n",
    "            train_label.append(float(2))\n",
    "        else:\n",
    "            train_label.append(float(3))\n",
    "train_label = np.r_[np.array(train_label)]\n",
    "\n",
    "\n",
    "# функция для генерации мелкой сетки - визуализация дерева решений\n",
    "def get_grid(data):\n",
    "    x_min,x_max=data[:,0].min(), data[:,0].max()\n",
    "    y_min,y_max=data[:,1].min(), data[:,1].max()\n",
    "    return np.meshgrid(np.arange(x_min,x_max),np.arange(y_min,y_max))\n",
    "# получение массивов координат точек сетки\n",
    "xx,yy=get_grid(data)\n",
    "\n",
    "clf=DecisionTreeClassifier(min_samples_leaf=3)\n",
    "clf.fit(data,train_label)\n",
    "# визуализация дерева решений - получение предсказаний для каждого узла сетки\n",
    "predicted = clf.predict(np.c_[xx.ravel(),yy.ravel()]).reshape(xx.shape)\n",
    "# закраска областей согласно выбранному классу\n",
    "plt.pcolormesh(xx,yy,predicted, cmap='viridis')\n",
    "\n",
    "\n",
    "# построение дерева решений по обучающей выборке\n",
    "\n",
    "\n",
    "\n",
    "\n",
    "# изображение узлов обучающей выборки\n",
    "plt.scatter(data[:,0], data[:,1],s=40,c=train_label, cmap='cool')\n",
    "\n"
   ]
  }
 ],
 "metadata": {
  "kernelspec": {
   "display_name": "Python 3",
   "language": "python",
   "name": "python3"
  },
  "language_info": {
   "codemirror_mode": {
    "name": "ipython",
    "version": 3
   },
   "file_extension": ".py",
   "mimetype": "text/x-python",
   "name": "python",
   "nbconvert_exporter": "python",
   "pygments_lexer": "ipython3",
   "version": "3.6.8"
  }
 },
 "nbformat": 4,
 "nbformat_minor": 2
}
